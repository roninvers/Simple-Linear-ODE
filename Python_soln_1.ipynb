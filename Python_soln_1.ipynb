{
  "nbformat": 4,
  "nbformat_minor": 0,
  "metadata": {
    "colab": {
      "provenance": []
    },
    "kernelspec": {
      "name": "python3",
      "display_name": "Python 3"
    },
    "language_info": {
      "name": "python"
    }
  },
  "cells": [
    {
      "cell_type": "code",
      "execution_count": 8,
      "metadata": {
        "id": "w3nxgPkybYzK"
      },
      "outputs": [],
      "source": [
        "import numpy as np\n",
        "\n",
        "# Define the function for the right-hand side of the ODE: y' = cos(t) - y\n",
        "def f(t, y):\n",
        "    return np.cos(t) - y\n",
        "\n",
        "# Euler's method function for any given n\n",
        "def euler_method(n):\n",
        "    t_initial = 0      # Start of the interval\n",
        "    t_final = 5        # End of the interval\n",
        "    y_initial = 1      # Initial value of y at t = 0\n",
        "    h = (t_final - t_initial) / n  # Step size\n",
        "    t = np.linspace(t_initial, t_final, n+1)  # Time points\n",
        "    y = np.zeros(n+1)                         # Array to store y values\n",
        "    y[0] = y_initial                          # Set initial condition\n",
        "    for i in range(n):\n",
        "        y[i+1] = y[i] + f(t[i], y[i]) * h     # Euler update\n",
        "    return t, y\n",
        "\n",
        "# Example usage:\n",
        "t, y = euler_method(20)\n",
        "# Note that, you can change the input to 100 or even 1000 and have the plot to say how it behaves"
      ]
    },
    {
      "cell_type": "code",
      "source": [],
      "metadata": {
        "id": "QUttrWE5bfHx"
      },
      "execution_count": 9,
      "outputs": []
    },
    {
      "cell_type": "code",
      "source": [],
      "metadata": {
        "id": "8HWZe392Y2UD"
      },
      "execution_count": null,
      "outputs": []
    }
  ]
}